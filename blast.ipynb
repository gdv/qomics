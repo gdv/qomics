{
 "cells": [
  {
   "cell_type": "code",
   "execution_count": null,
   "id": "26c7c91f-f8ff-4652-b39c-48c500313ea5",
   "metadata": {},
   "outputs": [],
   "source": [
    "# Biopython library\n",
    "from Bio.Blast import NCBIWWW\n",
    "from Bio.Blast import NCBIXML"
   ]
  },
  {
   "cell_type": "code",
   "execution_count": null,
   "id": "315e116c-8c84-46ff-8c00-74659fcf370b",
   "metadata": {},
   "outputs": [],
   "source": [
    "sequence_data = open(\"blast_example.fasta\").read()\n",
    "result_handle = NCBIWWW.qblast(\"blastn\", \"nt\", sequence_data)"
   ]
  },
  {
   "cell_type": "code",
   "execution_count": null,
   "id": "a81cd4fe-c70f-4f42-bc13-e780e1bcf729",
   "metadata": {},
   "outputs": [],
   "source": [
    "with open('results.xml', 'w') as save_file:\n",
    "  blast_results = result_handle.read()\n",
    "  save_file.write(blast_results)"
   ]
  },
  {
   "cell_type": "code",
   "execution_count": null,
   "id": "745f312f-6f61-4f9c-9a1b-8f40188270c5",
   "metadata": {},
   "outputs": [],
   "source": [
    "records = []\n",
    "for record in NCBIXML.parse(open(\"results.xml\")):\n",
    "    records.append(record)\n",
    "                "
   ]
  },
  {
   "cell_type": "code",
   "execution_count": null,
   "id": "712b3c50-d675-467c-9b85-4489aa8e0aa4",
   "metadata": {},
   "outputs": [],
   "source": [
    "records"
   ]
  },
  {
   "cell_type": "code",
   "execution_count": null,
   "id": "a32d47f2-7fce-47ad-9e87-ec41479f431b",
   "metadata": {},
   "outputs": [],
   "source": [
    "record = records[0]\n",
    "record"
   ]
  },
  {
   "cell_type": "code",
   "execution_count": null,
   "id": "c1012949-6658-40a7-af73-fa8f6b19ece0",
   "metadata": {},
   "outputs": [],
   "source": [
    "record.alignments"
   ]
  },
  {
   "cell_type": "code",
   "execution_count": null,
   "id": "5cc9774a-933e-43e1-bbfc-2f9d715cc7bb",
   "metadata": {},
   "outputs": [],
   "source": [
    "alignment=record.alignments[0]\n",
    "alignment.hsps[0].expect"
   ]
  },
  {
   "cell_type": "code",
   "execution_count": null,
   "id": "70ec21ae-2053-4954-8252-7ad8b96613cd",
   "metadata": {},
   "outputs": [],
   "source": [
    "alignment.hsps[0].query_end"
   ]
  },
  {
   "cell_type": "code",
   "execution_count": null,
   "id": "1613893a-aaa5-4050-935e-e618be028881",
   "metadata": {},
   "outputs": [],
   "source": [
    "record.query"
   ]
  },
  {
   "cell_type": "code",
   "execution_count": null,
   "id": "62c61473-e930-4c0c-b034-1c2d4a412c22",
   "metadata": {},
   "outputs": [],
   "source": [
    "alignment.length"
   ]
  },
  {
   "cell_type": "code",
   "execution_count": null,
   "id": "9cd045e4-acb6-4d32-a637-ce79b69ed0bc",
   "metadata": {},
   "outputs": [],
   "source": []
  },
  {
   "cell_type": "code",
   "execution_count": null,
   "id": "179016cd-4d24-4c54-9e15-d0ecbd489af8",
   "metadata": {},
   "outputs": [],
   "source": [
    "max_length = 0\n",
    "for record in records:\n",
    "    if record.alignments:\n",
    "        for alignment in record.alignments:\n",
    "                if alignment.length > max_length:\n",
    "                    max_length = alignment.length\n",
    "                    best = alignment\n",
    "best                    "
   ]
  },
  {
   "cell_type": "code",
   "execution_count": null,
   "id": "34bf2b96-23ad-4b7c-8f71-2bc28a600759",
   "metadata": {},
   "outputs": [],
   "source": [
    "best.hit_id"
   ]
  },
  {
   "cell_type": "code",
   "execution_count": null,
   "id": "93c1796a-eb81-432d-917d-a0f5031530c0",
   "metadata": {},
   "outputs": [],
   "source": []
  }
 ],
 "metadata": {
  "kernelspec": {
   "display_name": "Python 3 (ipykernel)",
   "language": "python",
   "name": "python3"
  },
  "language_info": {
   "codemirror_mode": {
    "name": "ipython",
    "version": 3
   },
   "file_extension": ".py",
   "mimetype": "text/x-python",
   "name": "python",
   "nbconvert_exporter": "python",
   "pygments_lexer": "ipython3",
   "version": "3.9.7"
  }
 },
 "nbformat": 4,
 "nbformat_minor": 5
}
