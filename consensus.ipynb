{
 "cells": [
  {
   "cell_type": "code",
   "execution_count": 1,
   "id": "12ddf6ff-b6da-4aaa-a73f-a4af3f9342f9",
   "metadata": {},
   "outputs": [],
   "source": [
    "import pandas as pd"
   ]
  },
  {
   "cell_type": "code",
   "execution_count": 6,
   "id": "8ecd87ca-9be6-40af-9e48-38c8838fb9fe",
   "metadata": {},
   "outputs": [
    {
     "data": {
      "text/html": [
       "<div>\n",
       "<style scoped>\n",
       "    .dataframe tbody tr th:only-of-type {\n",
       "        vertical-align: middle;\n",
       "    }\n",
       "\n",
       "    .dataframe tbody tr th {\n",
       "        vertical-align: top;\n",
       "    }\n",
       "\n",
       "    .dataframe thead th {\n",
       "        text-align: right;\n",
       "    }\n",
       "</style>\n",
       "<table border=\"1\" class=\"dataframe\">\n",
       "  <thead>\n",
       "    <tr style=\"text-align: right;\">\n",
       "      <th></th>\n",
       "      <th>id</th>\n",
       "      <th>seq</th>\n",
       "    </tr>\n",
       "  </thead>\n",
       "  <tbody>\n",
       "    <tr>\n",
       "      <th>0</th>\n",
       "      <td>#1</td>\n",
       "      <td>ATGTATGAG-GCAAGAAGACGAAGAACATGTTCCTGACCCGGGCCC...</td>\n",
       "    </tr>\n",
       "    <tr>\n",
       "      <th>1</th>\n",
       "      <td>#2</td>\n",
       "      <td>ATGCAGCCACCACCTCAGGCAGTCCCGTCTGGGGTGGCTGGACCAC...</td>\n",
       "    </tr>\n",
       "    <tr>\n",
       "      <th>2</th>\n",
       "      <td>#3</td>\n",
       "      <td>ATGCCATCCAAGTCAGCTTGCCTGCGTCACACTGAGGCACCTGGGC...</td>\n",
       "    </tr>\n",
       "    <tr>\n",
       "      <th>3</th>\n",
       "      <td>#4</td>\n",
       "      <td>ATGTATCCG-AATCAACCACGGGGTCCC-AGCTCGACTCTCCCTGC...</td>\n",
       "    </tr>\n",
       "    <tr>\n",
       "      <th>4</th>\n",
       "      <td>#5</td>\n",
       "      <td>ATGGCGACG-GGGGCCATGTGCAGGACCCTAACGACCGGCG-CTCC...</td>\n",
       "    </tr>\n",
       "    <tr>\n",
       "      <th>5</th>\n",
       "      <td>#6</td>\n",
       "      <td>ATGTTTGGTACTGAATCTTCATTGAGCATGTTTTTGAACACGTTAA...</td>\n",
       "    </tr>\n",
       "    <tr>\n",
       "      <th>6</th>\n",
       "      <td>#7</td>\n",
       "      <td>ATGTTTGGTACTGAATCTTCATTGAGCATGTTTTTGAAC-CGTTAA...</td>\n",
       "    </tr>\n",
       "    <tr>\n",
       "      <th>7</th>\n",
       "      <td>#8</td>\n",
       "      <td>ATGTTTAACAAATCATTTGGAACCCCCTTTGGGGGTA---CAGGGG...</td>\n",
       "    </tr>\n",
       "  </tbody>\n",
       "</table>\n",
       "</div>"
      ],
      "text/plain": [
       "   id                                                seq\n",
       "0  #1  ATGTATGAG-GCAAGAAGACGAAGAACATGTTCCTGACCCGGGCCC...\n",
       "1  #2  ATGCAGCCACCACCTCAGGCAGTCCCGTCTGGGGTGGCTGGACCAC...\n",
       "2  #3  ATGCCATCCAAGTCAGCTTGCCTGCGTCACACTGAGGCACCTGGGC...\n",
       "3  #4  ATGTATCCG-AATCAACCACGGGGTCCC-AGCTCGACTCTCCCTGC...\n",
       "4  #5  ATGGCGACG-GGGGCCATGTGCAGGACCCTAACGACCGGCG-CTCC...\n",
       "5  #6  ATGTTTGGTACTGAATCTTCATTGAGCATGTTTTTGAACACGTTAA...\n",
       "6  #7  ATGTTTGGTACTGAATCTTCATTGAGCATGTTTTTGAAC-CGTTAA...\n",
       "7  #8  ATGTTTAACAAATCATTTGGAACCCCCTTTGGGGGTA---CAGGGG..."
      ]
     },
     "execution_count": 6,
     "metadata": {},
     "output_type": "execute_result"
    }
   ],
   "source": [
    "seqs = pd.read_csv(\"consensus.csv\", header = None, names = ['id', 'seq'])\n",
    "seqs"
   ]
  },
  {
   "cell_type": "code",
   "execution_count": 7,
   "id": "bea389a9-88c5-4b4f-9536-c514b726ff1c",
   "metadata": {},
   "outputs": [
    {
     "data": {
      "text/plain": [
       "0    ATGTATGAG-GCAAGAAGACGAAGAACATGTTCCTGACCCGGGCCC...\n",
       "1    ATGCAGCCACCACCTCAGGCAGTCCCGTCTGGGGTGGCTGGACCAC...\n",
       "2    ATGCCATCCAAGTCAGCTTGCCTGCGTCACACTGAGGCACCTGGGC...\n",
       "3    ATGTATCCG-AATCAACCACGGGGTCCC-AGCTCGACTCTCCCTGC...\n",
       "4    ATGGCGACG-GGGGCCATGTGCAGGACCCTAACGACCGGCG-CTCC...\n",
       "5    ATGTTTGGTACTGAATCTTCATTGAGCATGTTTTTGAACACGTTAA...\n",
       "6    ATGTTTGGTACTGAATCTTCATTGAGCATGTTTTTGAAC-CGTTAA...\n",
       "7    ATGTTTAACAAATCATTTGGAACCCCCTTTGGGGGTA---CAGGGG...\n",
       "Name: seq, dtype: object"
      ]
     },
     "execution_count": 7,
     "metadata": {},
     "output_type": "execute_result"
    }
   ],
   "source": [
    "seqs['seq']"
   ]
  },
  {
   "cell_type": "code",
   "execution_count": 9,
   "id": "aa62ac21-906d-4491-a809-abe9ea512094",
   "metadata": {},
   "outputs": [
    {
     "data": {
      "text/plain": [
       "['ATGTATGAG-GCAAGAAGACGAAGAACATGTTCCTGACCCGGGCCCTGGAG-AGATTCTGGCCGACAAGGAAGTGAAGAA-GCGCATCACTCCCAGCTGCGCAAAGCGTGCGAGGTGGCC',\n",
       " 'ATGCAGCCACCACCTCAGGCAGTCCCGTCTGGGGTGGCTGGACCACCCC-AGCTGGGAATCCTCGGAGCATGTTCTGGG-CAACAGCCCTTACAGGAAGCCAGCCAATAATGCACCAGTG',\n",
       " 'ATGCCATCCAAGTCAGCTTGCCTGCGTCACACTGAGGCACCTGGGCAGCTAGAAGGCAGAATGCTCCAGGGACAGCCTC-GAACACGGAAAAGAAGCTCATCCCAACACCAGGCTTCTTA',\n",
       " 'ATGTATCCG-AATCAACCACGGGGTCCC-AGCTCGACTCTCCCTGCGGCAGACAGGCTCCCCCGGGATGATC-----TACTCGTTATGGGAGTCCCAAAAGACAGCTCCAGTTTTACAGG',\n",
       " 'ATGGCGACG-GGGGCCATGTGCAGGACCCTAACGACCGGCG-CTCCGGCCCATTTACGATTATCTTGATAATGGAAATAATAAAATGGCAATTCAGCAAGCTGATAAACTG-TGAAGAAA',\n",
       " 'ATGTTTGGTACTGAATCTTCATTGAGCATGTTTTTGAACACGTTAACCCCAAAGTTCTACGTGGCCCTGACAGGCACTTCCTCG-TAATATCGGGACTTATTTTGATATT-GAATGGTGG',\n",
       " 'ATGTTTGGTACTGAATCTTCATTGAGCATGTTTTTGAAC-CGTTAACCCCAAAGTTCTACGTGGCCCTGAC-GGCACTTCCTCGCTAATATCGGGACTTATTTTGATATTTGAATGGTGG',\n",
       " 'ATGTTTAACAAATCATTTGGAACCCCCTTTGGGGGTA---CAGGGGGCTTTGGCACAACGTCA-CATTTGGGCAAAATACTGGCTTTGGTACGACTAGTGGAGGAGCATTTGGAACATCT']"
      ]
     },
     "execution_count": 9,
     "metadata": {},
     "output_type": "execute_result"
    }
   ],
   "source": [
    "my_sequences = list(seqs['seq'])\n",
    "my_sequences"
   ]
  },
  {
   "cell_type": "code",
   "execution_count": 11,
   "id": "3a4423f3-dae1-4815-8d9a-23497ebd0117",
   "metadata": {},
   "outputs": [
    {
     "data": {
      "text/plain": [
       "120"
      ]
     },
     "execution_count": 11,
     "metadata": {},
     "output_type": "execute_result"
    }
   ],
   "source": [
    "l = len(my_sequences[0])\n",
    "l"
   ]
  },
  {
   "cell_type": "code",
   "execution_count": 24,
   "id": "626da358-e082-4f7c-8d65-7b3ead121b47",
   "metadata": {},
   "outputs": [
    {
     "data": {
      "text/plain": [
       "'ATGTATGCGACATCATCTGCAATGACCATGTTTGTGACCCCGGTACCGCCAAAGGTCAACGCGGCCATGAAAGGCAATACCACGATTGAATCGCAGCTTAGAGAAACATTTGAATTGTGG'"
      ]
     },
     "execution_count": 24,
     "metadata": {},
     "output_type": "execute_result"
    }
   ],
   "source": [
    "from collections import Counter\n",
    "\n",
    "consensus = ''\n",
    "for i in range(l):\n",
    "    count = Counter([seq[i] for seq in my_sequences if seq[i] != '-'])\n",
    "    consensus += count.most_common(1)[0][0]\n",
    "consensus                    "
   ]
  }
 ],
 "metadata": {
  "kernelspec": {
   "display_name": "Python 3 (ipykernel)",
   "language": "python",
   "name": "python3"
  },
  "language_info": {
   "codemirror_mode": {
    "name": "ipython",
    "version": 3
   },
   "file_extension": ".py",
   "mimetype": "text/x-python",
   "name": "python",
   "nbconvert_exporter": "python",
   "pygments_lexer": "ipython3",
   "version": "3.9.9"
  }
 },
 "nbformat": 4,
 "nbformat_minor": 5
}
