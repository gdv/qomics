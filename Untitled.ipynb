{
 "cells": [
  {
   "cell_type": "markdown",
   "id": "27214e89-ce36-439a-a7e1-7d2db26d2a8e",
   "metadata": {},
   "source": [
    "# Problem\n",
    "\n",
    "Compute the Hamming distance of two sequences with the same length"
   ]
  },
  {
   "cell_type": "code",
   "execution_count": 1,
   "id": "200506c5-1f98-4d92-ad25-b1b2c6feb6ec",
   "metadata": {},
   "outputs": [],
   "source": [
    "s = 'ACGTGACTGACTGC'\n",
    "t = 'ACGAGCTGGACTAC'"
   ]
  },
  {
   "cell_type": "code",
   "execution_count": 2,
   "id": "e24f3a5b-06f5-4893-97a1-22157d31f28f",
   "metadata": {},
   "outputs": [
    {
     "data": {
      "text/plain": [
       "True"
      ]
     },
     "execution_count": 2,
     "metadata": {},
     "output_type": "execute_result"
    }
   ],
   "source": [
    "len(s) == len(t)"
   ]
  },
  {
   "cell_type": "code",
   "execution_count": 3,
   "id": "c4be4369-1442-4de7-a31c-0c5a8d0ae728",
   "metadata": {},
   "outputs": [
    {
     "data": {
      "text/plain": [
       "9"
      ]
     },
     "execution_count": 3,
     "metadata": {},
     "output_type": "execute_result"
    }
   ],
   "source": [
    "distance = 0\n",
    "for i in range(len(s)):\n",
    "    if s[i] == t[i]:\n",
    "        distance += 1\n",
    "distance        "
   ]
  },
  {
   "cell_type": "code",
   "execution_count": null,
   "id": "36126fba-0413-454c-a44c-c46dc9fbed0c",
   "metadata": {},
   "outputs": [],
   "source": []
  },
  {
   "cell_type": "code",
   "execution_count": 6,
   "id": "fdbb93bd-e20d-45d6-a4ac-ad1dd9d8ebf4",
   "metadata": {},
   "outputs": [
    {
     "data": {
      "text/plain": [
       "['A', 'C', 'G', 'G', 'G', 'A', 'C', 'T', 'C']"
      ]
     },
     "execution_count": 6,
     "metadata": {},
     "output_type": "execute_result"
    }
   ],
   "source": [
    "[c1 for (c1, c2) in zip(s, t) if c1 == c2]\n",
    "    "
   ]
  },
  {
   "cell_type": "code",
   "execution_count": 8,
   "id": "b81e26e6-26a9-43f4-b5b1-f82bd3ba3e5e",
   "metadata": {},
   "outputs": [
    {
     "data": {
      "text/plain": [
       "9"
      ]
     },
     "execution_count": 8,
     "metadata": {},
     "output_type": "execute_result"
    }
   ],
   "source": [
    "sum([1 for (c1, c2) in zip(s, t) if c1 == c2])\n",
    "    "
   ]
  },
  {
   "cell_type": "code",
   "execution_count": 24,
   "id": "56836fa5-2329-4010-9191-e53717d6b977",
   "metadata": {},
   "outputs": [
    {
     "name": "stdout",
     "output_type": "stream",
     "text": [
      "3.16 s ± 100 ms per loop (mean ± std. dev. of 7 runs, 1 loop each)\n"
     ]
    }
   ],
   "source": [
    "%%timeit\n",
    "\n",
    "length = 10000000\n",
    "import random\n",
    "s = ''.join(random.choices('ACGT', k=length))\n",
    "t = ''.join(random.choices('ACGT', k=length))\n"
   ]
  },
  {
   "cell_type": "code",
   "execution_count": 25,
   "id": "ff6a5146-6e89-495c-bfc3-cdb9bfa5d15a",
   "metadata": {},
   "outputs": [
    {
     "name": "stdout",
     "output_type": "stream",
     "text": [
      "6.6 ms ± 936 µs per loop (mean ± std. dev. of 7 runs, 100 loops each)\n"
     ]
    }
   ],
   "source": [
    "%%timeit \n",
    "\n",
    "sum([1 for (c1, c2) in zip(s, t) if c1 == c2])"
   ]
  },
  {
   "cell_type": "markdown",
   "id": "12be4b54-ea66-4225-91b0-90e91f2adc59",
   "metadata": {},
   "source": [
    "# Problem 2\n",
    "\n",
    "Compute the generalized Hamming distance of two strings"
   ]
  },
  {
   "cell_type": "code",
   "execution_count": 30,
   "id": "b6a32f6b-6cd3-44e8-80c0-3e1381ebef8d",
   "metadata": {},
   "outputs": [],
   "source": [
    "s = 'AACCGCGTGACTGACTGC'\n",
    "t = 'ACGAGCTGGACTAC'"
   ]
  },
  {
   "cell_type": "code",
   "execution_count": 32,
   "id": "717c05c0-a267-4ab2-b586-3f0e64b6cbd1",
   "metadata": {},
   "outputs": [
    {
     "data": {
      "text/plain": [
       "True"
      ]
     },
     "execution_count": 32,
     "metadata": {},
     "output_type": "execute_result"
    }
   ],
   "source": [
    "if len(s) > len(t):\n",
    "    (s,t) = (t,s)\n",
    "len(s) <= len(t)"
   ]
  },
  {
   "cell_type": "code",
   "execution_count": 34,
   "id": "297b5746-6959-449a-8aaf-a4831ba7d57e",
   "metadata": {},
   "outputs": [
    {
     "data": {
      "text/plain": [
       "'ACGAGCTGGACTAC'"
      ]
     },
     "execution_count": 34,
     "metadata": {},
     "output_type": "execute_result"
    }
   ],
   "source": [
    "s"
   ]
  },
  {
   "cell_type": "code",
   "execution_count": 35,
   "id": "f3f71b5b-b88e-4c8c-b76e-6d9fb8e132fe",
   "metadata": {},
   "outputs": [
    {
     "data": {
      "text/plain": [
       "'AACCGCGTGACTGACTGC'"
      ]
     },
     "execution_count": 35,
     "metadata": {},
     "output_type": "execute_result"
    }
   ],
   "source": [
    "t"
   ]
  },
  {
   "cell_type": "code",
   "execution_count": 42,
   "id": "33e48bf3-7c14-4b52-9a13-ac860c5fb32f",
   "metadata": {},
   "outputs": [
    {
     "data": {
      "text/plain": [
       "\"['____']\""
      ]
     },
     "execution_count": 42,
     "metadata": {},
     "output_type": "execute_result"
    }
   ],
   "source": [
    "filler = str(['_' * (len(t) - len(s))])\n",
    "filler"
   ]
  },
  {
   "cell_type": "code",
   "execution_count": 45,
   "id": "b5c06f3f-0325-48f7-8e96-90da8367ac4d",
   "metadata": {},
   "outputs": [
    {
     "data": {
      "text/plain": [
       "2"
      ]
     },
     "execution_count": 45,
     "metadata": {},
     "output_type": "execute_result"
    }
   ],
   "source": [
    "min(sum([1 for (c1, c2) in zip(filler + s, t) if c1 == c2]), sum([1 for (c1, c2) in zip(s + filler, t) if c1 == c2]))"
   ]
  },
  {
   "cell_type": "code",
   "execution_count": 44,
   "id": "b4794ec4-1df4-4357-a152-f257d8286e3e",
   "metadata": {},
   "outputs": [
    {
     "data": {
      "text/plain": [
       "7"
      ]
     },
     "execution_count": 44,
     "metadata": {},
     "output_type": "execute_result"
    }
   ],
   "source": []
  },
  {
   "cell_type": "code",
   "execution_count": null,
   "id": "507da820-dec4-467f-8984-334b4d6d2f1e",
   "metadata": {},
   "outputs": [],
   "source": []
  }
 ],
 "metadata": {
  "kernelspec": {
   "display_name": "Python 3 (ipykernel)",
   "language": "python",
   "name": "python3"
  },
  "language_info": {
   "codemirror_mode": {
    "name": "ipython",
    "version": 3
   },
   "file_extension": ".py",
   "mimetype": "text/x-python",
   "name": "python",
   "nbconvert_exporter": "python",
   "pygments_lexer": "ipython3",
   "version": "3.9.7"
  }
 },
 "nbformat": 4,
 "nbformat_minor": 5
}
