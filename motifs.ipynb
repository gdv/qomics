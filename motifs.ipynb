{
 "cells": [
  {
   "cell_type": "code",
   "execution_count": 3,
   "id": "5cdb480c-d332-4aa0-9ee7-69ef44a992ad",
   "metadata": {},
   "outputs": [],
   "source": [
    "def hamming(seq1, seq2):\n",
    "    return sum([1 for (c1, c2) in zip(seq1, seq2) if c1 != c2])"
   ]
  },
  {
   "cell_type": "code",
   "execution_count": 4,
   "id": "9ad896ea-c299-44ad-8ff4-684180fa5290",
   "metadata": {},
   "outputs": [],
   "source": [
    "genomes = ['ACGAGCTACGTAC', 'CCGTACGATGCTA', 'GCACAGATTCGGACT' , 'TTGCGGACCGTACGTAGC']"
   ]
  },
  {
   "cell_type": "code",
   "execution_count": 5,
   "id": "b8fd766c-6f4c-446f-8dc3-689c7c156b84",
   "metadata": {},
   "outputs": [],
   "source": [
    "k = 6"
   ]
  },
  {
   "cell_type": "code",
   "execution_count": 6,
   "id": "086710a3-f783-4926-9b41-e2a31c228475",
   "metadata": {},
   "outputs": [
    {
     "data": {
      "text/plain": [
       "'ACGGTC'"
      ]
     },
     "execution_count": 6,
     "metadata": {},
     "output_type": "execute_result"
    }
   ],
   "source": [
    "\"ACGGTC\""
   ]
  },
  {
   "cell_type": "markdown",
   "id": "e90256a8-3458-472e-b0ea-c319f2f16f46",
   "metadata": {},
   "source": [
    "# Motif finding problem\n",
    "\n",
    "Istance: a set $S$ of $n$ genomes (each represented by a string), an integer $k\\ge 1$\n",
    "\n",
    "Feasible solution: a substring $T_i$ for each string $S_i\\in S$\n",
    "\n",
    "Goal: is to minimize $\\sum_i d_H(T_i, m)$, where $m$ is the consensus of the subtrings $T_i$. The string $m$ is also the motif found."
   ]
  },
  {
   "cell_type": "code",
   "execution_count": 7,
   "id": "0e17b650-bc20-4479-9e7b-243c51f61476",
   "metadata": {},
   "outputs": [],
   "source": [
    "samples = ['ACGTAC', 'ATGCTA', 'CGGACT' , 'CGTAGC']"
   ]
  },
  {
   "cell_type": "markdown",
   "id": "c5399a37-b32c-4bf2-8f0d-8629b3a5f026",
   "metadata": {},
   "source": [
    "'ACGTAC' 2\n",
    "'ATGCTA' 4\n",
    "'CGGACT' 3\n",
    "'CGTAGC' 3\n",
    "---------\n",
    "'AGGAAC'\n",
    " 223212 highest frequency\n",
    " 221232 <- sum those values to obtain the sum of the hamming distances"
   ]
  },
  {
   "cell_type": "code",
   "execution_count": 8,
   "id": "1beaaf57-6bd9-4dc7-891b-6b5951baa69f",
   "metadata": {},
   "outputs": [],
   "source": [
    "from collections import Counter\n",
    "\n",
    "def consensus(strings):\n",
    "    consensus = ''\n",
    "    for pos in range(len(strings[0])):\n",
    "        count = Counter([seq[pos] for seq in strings])\n",
    "        consensus += count.most_common(1)[0][0]\n",
    "    return consensus "
   ]
  },
  {
   "cell_type": "code",
   "execution_count": 9,
   "id": "83bd7c69-6dc4-4aa8-866e-ecdf630db60a",
   "metadata": {},
   "outputs": [
    {
     "data": {
      "text/plain": [
       "'AGGAAC'"
      ]
     },
     "execution_count": 9,
     "metadata": {},
     "output_type": "execute_result"
    }
   ],
   "source": [
    "consensus(samples)"
   ]
  },
  {
   "cell_type": "code",
   "execution_count": 10,
   "id": "9f8dc4f0-59f6-4c20-a24c-ff599702a199",
   "metadata": {},
   "outputs": [],
   "source": [
    "def total_distance(cons, strings):\n",
    "    return sum([hamming(cons, seq) for seq in strings])"
   ]
  },
  {
   "cell_type": "code",
   "execution_count": 11,
   "id": "d37a93b8-3411-4f7a-bed7-349423c9dae8",
   "metadata": {},
   "outputs": [
    {
     "data": {
      "text/plain": [
       "17"
      ]
     },
     "execution_count": 11,
     "metadata": {},
     "output_type": "execute_result"
    }
   ],
   "source": [
    "total_distance(\"CCCCCC\", samples)"
   ]
  },
  {
   "cell_type": "code",
   "execution_count": 12,
   "id": "6350d941-4606-429e-9022-b590c8a8dc22",
   "metadata": {},
   "outputs": [],
   "source": [
    "def consensus_distance(strings):\n",
    "    cons = consensus(strings)\n",
    "    return sum([hamming(cons, seq) for seq in strings])"
   ]
  },
  {
   "cell_type": "code",
   "execution_count": 43,
   "id": "6e2c9ce0-4208-4763-8409-2ffe5db4a910",
   "metadata": {},
   "outputs": [],
   "source": [
    "def consensus_distance2(strings):\n",
    "    distance = 0\n",
    "    for pos in range(len(strings[0])):\n",
    "        count = Counter([seq[pos] for seq in strings])\n",
    "        distance += (len(strings) - max(count.values()))\n",
    "    return distance "
   ]
  },
  {
   "cell_type": "code",
   "execution_count": 16,
   "id": "0265f62e-023b-49b1-a9a3-d07d610df6eb",
   "metadata": {},
   "outputs": [
    {
     "data": {
      "text/plain": [
       "12"
      ]
     },
     "execution_count": 16,
     "metadata": {},
     "output_type": "execute_result"
    }
   ],
   "source": [
    "consensus_distance2(samples)"
   ]
  },
  {
   "cell_type": "code",
   "execution_count": 17,
   "id": "3e7cf0d7-a59e-4118-99f9-e7d9ea6e4d2e",
   "metadata": {},
   "outputs": [
    {
     "data": {
      "text/plain": [
       "Counter({'A': 9, 'C': 7, 'G': 7, 'T': 9})"
      ]
     },
     "execution_count": 17,
     "metadata": {},
     "output_type": "execute_result"
    }
   ],
   "source": [
    "x = Counter(\"ACGCTAGTATTACGATGGCGATCATTTACGAC\")\n",
    "x"
   ]
  },
  {
   "cell_type": "code",
   "execution_count": 18,
   "id": "471683fd-f154-43e3-820d-d4d19a04784e",
   "metadata": {},
   "outputs": [
    {
     "data": {
      "text/plain": [
       "dict_values([9, 7, 7, 9])"
      ]
     },
     "execution_count": 18,
     "metadata": {},
     "output_type": "execute_result"
    }
   ],
   "source": [
    "x.values()"
   ]
  },
  {
   "cell_type": "code",
   "execution_count": 19,
   "id": "ea3062e6-a58a-4e61-966d-3dbd42cb3769",
   "metadata": {},
   "outputs": [
    {
     "data": {
      "text/plain": [
       "9"
      ]
     },
     "execution_count": 19,
     "metadata": {},
     "output_type": "execute_result"
    }
   ],
   "source": [
    "max(x.values())"
   ]
  },
  {
   "cell_type": "markdown",
   "id": "6f28415d-36f2-40ec-9fad-172c69efe123",
   "metadata": {},
   "source": [
    "Modify `consensus_distance2` to compute the number of characters of the input strings that are **equal** to the corresponding character of the consensus."
   ]
  },
  {
   "cell_type": "code",
   "execution_count": 20,
   "id": "ab1a5edc-7ab1-46e3-b7b4-9fe1ac943fde",
   "metadata": {},
   "outputs": [],
   "source": [
    "def similarity(strings):\n",
    "    value = 0\n",
    "    for pos in range(len(strings[0])):\n",
    "        count = Counter([seq[pos] for seq in strings])\n",
    "        value += max(count.values())\n",
    "    return value"
   ]
  },
  {
   "cell_type": "markdown",
   "id": "bbe1abbd-5101-4314-b74c-d12e12fc16d9",
   "metadata": {},
   "source": [
    "Trivial approach: compute all susbstrings of `genomes`"
   ]
  },
  {
   "cell_type": "code",
   "execution_count": 21,
   "id": "ae9d8d1c-f9eb-4e65-8d1b-e822accfade5",
   "metadata": {},
   "outputs": [
    {
     "data": {
      "text/plain": [
       "'ACGAGCTACGTAC'"
      ]
     },
     "execution_count": 21,
     "metadata": {},
     "output_type": "execute_result"
    }
   ],
   "source": [
    "genomes[0]"
   ]
  },
  {
   "cell_type": "code",
   "execution_count": 22,
   "id": "79f37ca8-7e05-46ed-bc47-a20fb0c69cf1",
   "metadata": {},
   "outputs": [
    {
     "name": "stdout",
     "output_type": "stream",
     "text": [
      "['ACGAGC', 'CGAGCT', 'GAGCTA', 'AGCTAC', 'GCTACG', 'CTACGT', 'TACGTA']\n",
      "['CCGTAC', 'CGTACG', 'GTACGA', 'TACGAT', 'ACGATG', 'CGATGC', 'GATGCT']\n",
      "['GCACAG', 'CACAGA', 'ACAGAT', 'CAGATT', 'AGATTC', 'GATTCG', 'ATTCGG', 'TTCGGA', 'TCGGAC']\n",
      "['TTGCGG', 'TGCGGA', 'GCGGAC', 'CGGACC', 'GGACCG', 'GACCGT', 'ACCGTA', 'CCGTAC', 'CGTACG', 'GTACGT', 'TACGTA', 'ACGTAG']\n"
     ]
    }
   ],
   "source": [
    "for genome in genomes:\n",
    "    print([ genome[i: i + k] for i in range(len(genome) - k ) ])"
   ]
  },
  {
   "cell_type": "code",
   "execution_count": 28,
   "id": "79121b04-8d7e-4f88-a591-0f5f4060a2f1",
   "metadata": {},
   "outputs": [
    {
     "name": "stdout",
     "output_type": "stream",
     "text": [
      "['ACGAGC', 'CCGTAC', 'GCACAG', 'GCGGAC'] GCGAAC 8 [0, 0, 0, 2]\n",
      "['ACGAGC', 'CCGTAC', 'GCACAG', 'CCGTAC'] CCGTAC 7 [0, 0, 0, 7]\n",
      "['ACGAGC', 'CCGTAC', 'TCGGAC', 'GCGGAC'] ACGGAC 6 [0, 0, 8, 2]\n",
      "['ACGAGC', 'CCGTAC', 'TCGGAC', 'CCGTAC'] CCGTAC 5 [0, 0, 8, 7]\n",
      "['GCTACG', 'CGTACG', 'CGGACT', 'CGTACG'] CGTACG 4 [4, 1, 9, 8]\n",
      "['ACGTAC', 'CCGTAC', 'TCGGAC', 'CCGTAC'] CCGTAC 3 [7, 0, 8, 7]\n",
      "CCGTAC 3\n"
     ]
    }
   ],
   "source": [
    "positions = [0] * len(genomes)\n",
    "level = len(genomes) - 1\n",
    "substrings = [genomes[i][pos: pos + k] for (i, pos) in enumerate(positions)]\n",
    "best_value = consensus_distance2(substrings)\n",
    "best = consensus(substrings)\n",
    "\n",
    "while(level >= 0):\n",
    "    substrings = [genomes[i][pos: pos + k] for (i, pos) in enumerate(positions)]\n",
    "    distance = consensus_distance2(substrings)\n",
    "    if distance < best_value:\n",
    "        best = consensus(substrings)\n",
    "        best_value = distance\n",
    "        print(substrings, best, distance, positions)\n",
    "\n",
    "        \n",
    "    # positions[0] -> substring[0]\n",
    "    # positions[1] -> substring[1]   ________ the first two substrings are not too different\n",
    "    # positions[2] -> substring[2]   ________ the first three substrings already are too different <--- change this substring\n",
    "    # positions[3] -> substring[3]\n",
    "    level = len(genomes) - 1\n",
    "    while level >= 0 and consensus_distance2(substrings[:level + 1]) >= best_value:\n",
    "        level -= 1\n",
    "    level += 1\n",
    "    for i in range(level + 1, len(genomes)):\n",
    "        positions[i] = 0\n",
    "        \n",
    "    while level >= 0 and positions[level] >= len(genomes[level]) - k:\n",
    "        positions[level] = 0\n",
    "        level -= 1\n",
    "    \n",
    "    if level >= 0:\n",
    "        positions[level] += 1\n",
    "\n",
    "print(best, best_value)"
   ]
  },
  {
   "cell_type": "code",
   "execution_count": 80,
   "id": "c9a4b225-1012-4ac6-bc56-ce123d6d69f3",
   "metadata": {},
   "outputs": [],
   "source": [
    "def best_substring(long, short):\n",
    "    l = len(short)\n",
    "    # find the l-long substring s of long that minimizes dh(s, short)\n",
    "    best = long[:l] \n",
    "    best_value = hamming(best, short)\n",
    "    for i in range(len(long) - l + 1):\n",
    "        candidate = long[i: i + l]\n",
    "        if hamming(short, candidate) < best_value:\n",
    "            best = candidate\n",
    "            best_value = hamming(best, short)\n",
    "    return best"
   ]
  },
  {
   "cell_type": "markdown",
   "id": "bac23682-e226-462d-83eb-a1d984388a5d",
   "metadata": {},
   "source": [
    "# Exercise\n",
    "\n",
    "Modify the approach to iterate over all k-long candidate consensus strings"
   ]
  },
  {
   "cell_type": "code",
   "execution_count": 116,
   "id": "2fdba71d-5990-4026-9220-572e25b158d6",
   "metadata": {},
   "outputs": [
    {
     "name": "stdout",
     "output_type": "stream",
     "text": [
      "['ACGAGC', 'CCGTAC', 'ACAGAT', 'GCGGAC'] ['A', 'A', 'A', 'A', 'A', 'C'] 14\n",
      "['ACGAGC', 'ACGATG', 'GCACAG', 'ACGTAG'] ['A', 'A', 'A', 'A', 'A', 'G'] 13\n",
      "['GCTACG', 'CGTACG', 'GATTCG', 'GGACCG'] ['A', 'A', 'A', 'A', 'C', 'G'] 12\n",
      "['ACGAGC', 'CGATGC', 'CACAGA', 'CGTAGC'] ['A', 'A', 'A', 'A', 'G', 'C'] 11\n",
      "['CTACGT', 'GTACGA', 'ACAGAT', 'GACCGT'] ['A', 'A', 'A', 'C', 'G', 'T'] 10\n",
      "['TACGTA', 'ACGATG', 'CACAGA', 'ACCGTA'] ['A', 'A', 'C', 'A', 'T', 'A'] 9\n",
      "['TACGTA', 'TACGAT', 'CACAGA', 'ACCGTA'] ['A', 'A', 'C', 'G', 'T', 'A'] 8\n",
      "['ACGTAC', 'CCGTAC', 'ACAGAT', 'CCGTAC'] ['A', 'C', 'A', 'T', 'A', 'C'] 7\n",
      "['ACGTAC', 'CCGTAC', 'TCGGAC', 'GCGGAC'] ['A', 'C', 'G', 'G', 'A', 'C'] 5\n",
      "['ACGTAC', 'CCGTAC', 'TCGGAC', 'CCGTAC'] ['A', 'C', 'G', 'T', 'A', 'C'] 4\n",
      "['ACGTAC', 'CCGTAC', 'TCGGAC', 'CCGTAC'] ['C', 'C', 'G', 'T', 'A', 'C'] 3\n",
      "['C', 'C', 'G', 'T', 'A', 'C'] 3\n"
     ]
    }
   ],
   "source": [
    "candidate_consensus = ['A'] * k\n",
    "pos = k - 1\n",
    "next_char = {'A': 'C', 'C': 'G', 'G': 'T' }\n",
    "\n",
    "substrings = [best_substring(genome, ''.join(candidate_consensus[:pos + 1])) for genome in genomes]\n",
    "best_value = total_distance(''.join(candidate_consensus[:pos + 1]), substrings)\n",
    "best = candidate_consensus\n",
    "\n",
    "while(pos >= 0):\n",
    "       \n",
    "    pos = k - 1\n",
    "    # extract the (pos + 1)-long substring minimized the hamming distance from each genome \n",
    "    substrings = [best_substring(genome, ''.join(candidate_consensus[:pos + 1])) for genome in genomes]\n",
    "    while pos >= 0 and total_distance(''.join(candidate_consensus[:pos + 1]), substrings)  >= best_value:\n",
    "        pos -= 1\n",
    "        substrings = [best_substring(genome, ''.join(candidate_consensus[:pos + 1])) for genome in genomes]\n",
    "    pos += 1  \n",
    "    # now pos is the index of the character that I want to change\n",
    "    # 'A' -> 'C'\n",
    "    # 'C' -> 'G'\n",
    "    # 'G' -> 'T'\n",
    "    # 'T' -> special case\n",
    "    \n",
    "    \n",
    "    for i in range(pos + 1, k):\n",
    "        candidate_consensus[i] = 'A'\n",
    "        \n",
    "    while pos >= 0 and candidate_consensus[pos] == 'T':\n",
    "        candidate_consensus[pos] = 'A'\n",
    "        pos -= 1\n",
    "    \n",
    "    if pos >= 0:\n",
    "        candidate_consensus[pos] = next_char[candidate_consensus[pos]]\n",
    "\n",
    "    substrings = [best_substring(genome, ''.join(candidate_consensus)) for genome in genomes]\n",
    "    distance = total_distance(''.join(candidate_consensus), substrings)\n",
    "    if distance < best_value:\n",
    "        best = candidate_consensus.copy()\n",
    "        best_value = distance\n",
    "        print(substrings, best, distance)\n",
    "print(best, best_value)"
   ]
  },
  {
   "cell_type": "code",
   "execution_count": null,
   "id": "cd5acdf3-b712-4b04-993d-e4b7b9bf2433",
   "metadata": {},
   "outputs": [],
   "source": []
  }
 ],
 "metadata": {
  "kernelspec": {
   "display_name": "Python 3 (ipykernel)",
   "language": "python",
   "name": "python3"
  },
  "language_info": {
   "codemirror_mode": {
    "name": "ipython",
    "version": 3
   },
   "file_extension": ".py",
   "mimetype": "text/x-python",
   "name": "python",
   "nbconvert_exporter": "python",
   "pygments_lexer": "ipython3",
   "version": "3.9.9"
  }
 },
 "nbformat": 4,
 "nbformat_minor": 5
}
