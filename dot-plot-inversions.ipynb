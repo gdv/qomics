{
 "cells": [
  {
   "cell_type": "code",
   "execution_count": 1,
   "id": "038b092c-c49c-4726-aed7-724bd83250e8",
   "metadata": {},
   "outputs": [],
   "source": [
    "s1 = \"ACCGTTATCGAA\"\n",
    "s2 = \"AGCTTGGAA\""
   ]
  },
  {
   "cell_type": "code",
   "execution_count": 21,
   "id": "8dd62db2-245e-4cbf-b53a-e6a3604350f8",
   "metadata": {},
   "outputs": [
    {
     "data": {
      "text/plain": [
       "[[0, 0, 0, 0, 0, 0, 0, 0, 0],\n",
       " [0, 0, 0, 0, 0, 0, 0, 0, 0],\n",
       " [0, 0, 0, 0, 0, 0, 0, 0, 0],\n",
       " [0, 0, 0, 0, 0, 0, 0, 0, 0],\n",
       " [0, 0, 0, 0, 0, 0, 0, 0, 0],\n",
       " [0, 0, 0, 0, 0, 0, 0, 0, 0],\n",
       " [0, 0, 0, 0, 0, 0, 0, 0, 0],\n",
       " [0, 0, 0, 0, 0, 0, 0, 0, 0],\n",
       " [0, 0, 0, 0, 0, 0, 0, 0, 0],\n",
       " [0, 0, 0, 0, 0, 0, 0, 0, 0],\n",
       " [0, 0, 0, 0, 0, 0, 0, 0, 0],\n",
       " [0, 0, 0, 0, 0, 0, 0, 0, 0]]"
      ]
     },
     "execution_count": 21,
     "metadata": {},
     "output_type": "execute_result"
    }
   ],
   "source": [
    "dotplot = []\n",
    "for c1 in s1:\n",
    "    dotplot.append([0] * len(s2))\n",
    "    \n",
    "dotplot    "
   ]
  },
  {
   "cell_type": "code",
   "execution_count": 22,
   "id": "35342fa0-1470-4c54-bba4-b477d2ae446b",
   "metadata": {},
   "outputs": [
    {
     "data": {
      "text/plain": [
       "[[1, 0, 0, 0, 0, 0, 0, 1, 1],\n",
       " [0, 0, 1, 0, 0, 0, 0, 0, 0],\n",
       " [0, 0, 1, 0, 0, 0, 0, 0, 0],\n",
       " [0, 1, 0, 0, 0, 1, 1, 0, 0],\n",
       " [0, 0, 0, 1, 1, 0, 0, 0, 0],\n",
       " [0, 0, 0, 1, 1, 0, 0, 0, 0],\n",
       " [1, 0, 0, 0, 0, 0, 0, 1, 1],\n",
       " [0, 0, 0, 1, 1, 0, 0, 0, 0],\n",
       " [0, 0, 1, 0, 0, 0, 0, 0, 0],\n",
       " [0, 1, 0, 0, 0, 1, 1, 0, 0],\n",
       " [1, 0, 0, 0, 0, 0, 0, 1, 1],\n",
       " [1, 0, 0, 0, 0, 0, 0, 1, 1]]"
      ]
     },
     "execution_count": 22,
     "metadata": {},
     "output_type": "execute_result"
    }
   ],
   "source": [
    "for row in range(len(s1)):\n",
    "    for col in range(len(s2)):\n",
    "        if s1[row] == s2[col]:\n",
    "            dotplot[row][col] = 1\n",
    "dotplot            "
   ]
  },
  {
   "cell_type": "code",
   "execution_count": 12,
   "id": "63c903a2-54bc-4e22-8955-04521ef787de",
   "metadata": {},
   "outputs": [
    {
     "data": {
      "text/plain": [
       "{0: ' ', 1: '*'}"
      ]
     },
     "execution_count": 12,
     "metadata": {},
     "output_type": "execute_result"
    }
   ],
   "source": [
    "transformation = {0 : ' ', 1: '*'}\n",
    "transformation"
   ]
  },
  {
   "cell_type": "code",
   "execution_count": 16,
   "id": "16f19f91-d6db-414e-b97b-bc9c25355e6e",
   "metadata": {},
   "outputs": [
    {
     "name": "stdout",
     "output_type": "stream",
     "text": [
      "*      **\n",
      "  *      \n",
      "  *      \n",
      " *   **  \n",
      "   **    \n",
      "   **    \n",
      "*      **\n",
      "   **    \n",
      "  *      \n",
      " *   **  \n",
      "*      **\n",
      "*      **\n"
     ]
    }
   ],
   "source": [
    "for r in dotplot:\n",
    "    print(''.join([transformation[elem] for elem in r]))"
   ]
  },
  {
   "cell_type": "code",
   "execution_count": 19,
   "id": "8d68213f-62ae-4beb-9aef-cc4d23ee0cf4",
   "metadata": {},
   "outputs": [
    {
     "data": {
      "text/plain": [
       "[11, 10, 9, 8, 7, 6, 5, 4, 3, 2, 1, 0]"
      ]
     },
     "execution_count": 19,
     "metadata": {},
     "output_type": "execute_result"
    }
   ],
   "source": [
    "list(range(len(s1) - 1, -1, -1))"
   ]
  },
  {
   "cell_type": "code",
   "execution_count": 23,
   "id": "058ca0b8-226c-4b8f-a97f-caef0b520308",
   "metadata": {},
   "outputs": [
    {
     "data": {
      "text/plain": [
       "[[1, 0, 0, 0, 0, 0, 0, 1, 1],\n",
       " [0, 0, 1, 0, 0, 0, 0, 0, 0],\n",
       " [0, 0, 2, 0, 0, 0, 0, 0, 0],\n",
       " [0, 1, 0, 0, 0, 3, 1, 0, 0],\n",
       " [0, 0, 0, 1, 2, 0, 0, 0, 0],\n",
       " [0, 0, 0, 1, 1, 0, 0, 0, 0],\n",
       " [1, 0, 0, 0, 0, 0, 0, 1, 1],\n",
       " [0, 0, 0, 4, 1, 0, 0, 0, 0],\n",
       " [0, 0, 3, 0, 0, 0, 0, 0, 0],\n",
       " [0, 2, 0, 0, 0, 1, 1, 0, 0],\n",
       " [1, 0, 0, 0, 0, 0, 0, 1, 2],\n",
       " [1, 0, 0, 0, 0, 0, 0, 1, 1]]"
      ]
     },
     "execution_count": 23,
     "metadata": {},
     "output_type": "execute_result"
    }
   ],
   "source": [
    "for row in range(len(s1) - 2, -1, -1):\n",
    "    for col in range(1, len(s2)):\n",
    "        if s1[row] == s2[col]:\n",
    "            dotplot[row][col] += dotplot[row + 1][col - 1]\n",
    "dotplot            "
   ]
  },
  {
   "cell_type": "code",
   "execution_count": null,
   "id": "88d86f8b-bfc4-4545-bef0-af754cdc573f",
   "metadata": {},
   "outputs": [],
   "source": []
  },
  {
   "cell_type": "code",
   "execution_count": 24,
   "id": "3e4210db-fbc3-472f-b6be-4696d3fb6b9b",
   "metadata": {},
   "outputs": [
    {
     "data": {
      "text/plain": [
       "(7, 0, 4)"
      ]
     },
     "execution_count": 24,
     "metadata": {},
     "output_type": "execute_result"
    }
   ],
   "source": [
    "max = -1\n",
    "inversion = ()\n",
    "for row in range(len(s1)):\n",
    "    for col in range(len(s2)):\n",
    "        if dotplot[row][col] > max:\n",
    "            max = dotplot[row][col]\n",
    "            inversion = (row, col - max + 1, max)\n",
    "inversion"
   ]
  },
  {
   "cell_type": "code",
   "execution_count": 28,
   "id": "bf45d340-9485-46f5-b735-a9862d424809",
   "metadata": {},
   "outputs": [
    {
     "data": {
      "text/plain": [
       "'TCGA'"
      ]
     },
     "execution_count": 28,
     "metadata": {},
     "output_type": "execute_result"
    }
   ],
   "source": [
    "s1[inversion[0]: inversion[0] + inversion[2]]"
   ]
  },
  {
   "cell_type": "code",
   "execution_count": 46,
   "id": "1f381f9b-cafa-4a66-9fad-c1a6a410a83d",
   "metadata": {},
   "outputs": [
    {
     "data": {
      "text/plain": [
       "'AGCT'"
      ]
     },
     "execution_count": 46,
     "metadata": {},
     "output_type": "execute_result"
    }
   ],
   "source": [
    "s2[inversion[1]: inversion[1] + inversion[2]]"
   ]
  },
  {
   "cell_type": "code",
   "execution_count": 47,
   "id": "225f0c68-2d1c-4786-bacc-79d9bd91cb27",
   "metadata": {},
   "outputs": [
    {
     "data": {
      "text/plain": [
       "True"
      ]
     },
     "execution_count": 47,
     "metadata": {},
     "output_type": "execute_result"
    }
   ],
   "source": [
    "s1[inversion[0]: inversion[0] + inversion[2]] == s2[inversion[1]: inversion[1] + inversion[2]][::-1]"
   ]
  },
  {
   "cell_type": "code",
   "execution_count": null,
   "id": "f7b0d374-62ed-456f-a1ec-2bb122326b59",
   "metadata": {},
   "outputs": [],
   "source": []
  }
 ],
 "metadata": {
  "kernelspec": {
   "display_name": "Python 3 (ipykernel)",
   "language": "python",
   "name": "python3"
  },
  "language_info": {
   "codemirror_mode": {
    "name": "ipython",
    "version": 3
   },
   "file_extension": ".py",
   "mimetype": "text/x-python",
   "name": "python",
   "nbconvert_exporter": "python",
   "pygments_lexer": "ipython3",
   "version": "3.9.9"
  }
 },
 "nbformat": 4,
 "nbformat_minor": 5
}
