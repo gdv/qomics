{
 "cells": [
  {
   "cell_type": "code",
   "execution_count": 1,
   "id": "36ade4d3-1b1a-4ec0-a620-909daffa3736",
   "metadata": {},
   "outputs": [],
   "source": [
    "s = 'RPITTVWCHNHCTAYMTVRVWYHVLADTVMVSCSRCLTNMNMPGKTAEDTKGWLANYAVTKDDGYLVQSCWYYYEDCFTTKRTKKGTDKNNRMPWNISA'\n",
    "t = 'NQNMMKLQFTWKFNNGDLMLWCHQHDMRHNFYFHLRINMRISTDMVGICDMLFGVYLPLWLYRPACGRECGTTMWVGVDMASYARYVIHGTIYLCRQPL'"
   ]
  },
  {
   "cell_type": "code",
   "execution_count": null,
   "id": "40d05014-a346-4c7e-a6c5-cfc484bd8385",
   "metadata": {},
   "outputs": [],
   "source": []
  }
 ],
 "metadata": {
  "kernelspec": {
   "display_name": "Python 3 (ipykernel)",
   "language": "python",
   "name": "python3"
  },
  "language_info": {
   "codemirror_mode": {
    "name": "ipython",
    "version": 3
   },
   "file_extension": ".py",
   "mimetype": "text/x-python",
   "name": "python",
   "nbconvert_exporter": "python",
   "pygments_lexer": "ipython3",
   "version": "3.9.7"
  }
 },
 "nbformat": 4,
 "nbformat_minor": 5
}
